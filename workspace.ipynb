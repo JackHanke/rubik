{
 "cells": [
  {
   "cell_type": "markdown",
   "id": "10775a27",
   "metadata": {},
   "source": [
    "# Rubik's Cube Video Solver"
   ]
  },
  {
   "cell_type": "code",
   "execution_count": 3,
   "id": "2805e86e",
   "metadata": {},
   "outputs": [
    {
     "name": "stdout",
     "output_type": "stream",
     "text": [
      "Collecting rubik_solver\n",
      "  Using cached rubik_solver-0.2.0.tar.gz (3.6 MB)\n",
      "  Installing build dependencies ... \u001b[?25ldone\n",
      "\u001b[?25h  Getting requirements to build wheel ... \u001b[?25ldone\n",
      "\u001b[?25h  Preparing metadata (pyproject.toml) ... \u001b[?25ldone\n",
      "\u001b[?25hCollecting future==0.16.0 (from rubik_solver)\n",
      "  Using cached future-0.16.0.tar.gz (824 kB)\n",
      "  Installing build dependencies ... \u001b[?25ldone\n",
      "\u001b[?25h  Getting requirements to build wheel ... \u001b[?25ldone\n",
      "\u001b[?25h  Preparing metadata (pyproject.toml) ... \u001b[?25ldone\n",
      "\u001b[?25hBuilding wheels for collected packages: rubik_solver, future\n",
      "  Building wheel for rubik_solver (pyproject.toml) ... \u001b[?25ldone\n",
      "\u001b[?25h  Created wheel for rubik_solver: filename=rubik_solver-0.2.0-py3-none-any.whl size=3684040 sha256=ee1991bbbf219e0ef172192fb1ab8e964ecec7523d0034d1f141736185751900\n",
      "  Stored in directory: /Users/jack/Library/Caches/pip/wheels/e6/b9/dc/34f7b5945c8b4ab9c1cd778c40b1b74a75765584653497ec36\n",
      "  Building wheel for future (pyproject.toml) ... \u001b[?25ldone\n",
      "\u001b[?25h  Created wheel for future: filename=future-0.16.0-py3-none-any.whl size=487874 sha256=3d24c0c9a362f6962ca09bfc3d2a2ff1016b81421768f817450977691e1c6cde\n",
      "  Stored in directory: /Users/jack/Library/Caches/pip/wheels/6e/bc/19/ea1496b17b60d45b1503dfb87704b1246bfaca822ce9880fd9\n",
      "Successfully built rubik_solver future\n",
      "Installing collected packages: future, rubik_solver\n",
      "\u001b[2K   \u001b[90m━━━━━━━━━━━━━━━━━━━━━━━━━━━━━━━━━━━━━━━━\u001b[0m \u001b[32m2/2\u001b[0m [rubik_solver]\n",
      "\u001b[1A\u001b[2KSuccessfully installed future-0.16.0 rubik_solver-0.2.0\n",
      "Note: you may need to restart the kernel to use updated packages.\n"
     ]
    }
   ],
   "source": [
    "%pip install rubik_solver"
   ]
  },
  {
   "cell_type": "code",
   "execution_count": 1,
   "id": "32c8acea",
   "metadata": {},
   "outputs": [
    {
     "data": {
      "text/plain": [
       "[L', F, B2, R', B, R', L, B, D', F', U, B2, U, F2, D', R2, L2, U, F2, D']"
      ]
     },
     "execution_count": 1,
     "metadata": {},
     "output_type": "execute_result"
    }
   ],
   "source": [
    "from rubik_solver import utils\n",
    "cube = 'wowgybwyogygybyoggrowbrgywrborwggybrbwororbwborgowryby'\n",
    "utils.solve(cube, 'Kociemba')"
   ]
  },
  {
   "cell_type": "code",
   "execution_count": 3,
   "id": "274391b7",
   "metadata": {},
   "outputs": [
    {
     "name": "stdout",
     "output_type": "stream",
     "text": [
      "Collecting opencv-python\n",
      "  Using cached opencv_python-4.11.0.86-cp37-abi3-macosx_13_0_arm64.whl.metadata (20 kB)\n",
      "Collecting Pillow\n",
      "  Downloading pillow-11.2.1-cp39-cp39-macosx_11_0_arm64.whl.metadata (8.9 kB)\n",
      "Collecting numpy>=1.21.0 (from opencv-python)\n",
      "  Downloading numpy-2.0.2-cp39-cp39-macosx_14_0_arm64.whl.metadata (60 kB)\n",
      "Using cached opencv_python-4.11.0.86-cp37-abi3-macosx_13_0_arm64.whl (37.3 MB)\n",
      "Downloading pillow-11.2.1-cp39-cp39-macosx_11_0_arm64.whl (3.0 MB)\n",
      "\u001b[2K   \u001b[90m━━━━━━━━━━━━━━━━━━━━━━━━━━━━━━━━━━━━━━━━\u001b[0m \u001b[32m3.0/3.0 MB\u001b[0m \u001b[31m31.6 MB/s\u001b[0m eta \u001b[36m0:00:00\u001b[0m\n",
      "\u001b[?25hDownloading numpy-2.0.2-cp39-cp39-macosx_14_0_arm64.whl (5.3 MB)\n",
      "\u001b[2K   \u001b[90m━━━━━━━━━━━━━━━━━━━━━━━━━━━━━━━━━━━━━━━━\u001b[0m \u001b[32m5.3/5.3 MB\u001b[0m \u001b[31m73.4 MB/s\u001b[0m eta \u001b[36m0:00:00\u001b[0m\n",
      "\u001b[?25hInstalling collected packages: Pillow, numpy, opencv-python\n",
      "\u001b[2K   \u001b[90m━━━━━━━━━━━━━━━━━━━━━━━━━━━━━━━━━━━━━━━━\u001b[0m \u001b[32m3/3\u001b[0m [opencv-python]0m [opencv-python]\n",
      "\u001b[1A\u001b[2KSuccessfully installed Pillow-11.2.1 numpy-2.0.2 opencv-python-4.11.0.86\n",
      "Note: you may need to restart the kernel to use updated packages.\n"
     ]
    }
   ],
   "source": [
    "%pip install opencv-python Pillow"
   ]
  },
  {
   "cell_type": "code",
   "execution_count": 2,
   "id": "44b0aa49",
   "metadata": {},
   "outputs": [
    {
     "name": "stderr",
     "output_type": "stream",
     "text": [
      "2025-05-23 21:03:04.894 Python[1930:42190] WARNING: Secure coding is automatically enabled for restorable state! However, not on all supported macOS versions of this application. Opt-in to secure coding explicitly by implementing NSApplicationDelegate.applicationSupportsSecureRestorableState:.\n"
     ]
    }
   ],
   "source": [
    "import numpy as np\n",
    "import cv2 \n",
    "file_name = 'test_vids/test_im.jpg'\n",
    "\n",
    "img = cv2.imread(file_name)\n",
    "\n",
    "## canny edge and contours\n",
    "# edges = cv2.Canny(img, 50, 200)\n",
    "# contours, hierarchy = cv2.findContours(edges,cv2.RETR_EXTERNAL, cv2.CHAIN_APPROX_NONE)\n",
    "# contour_threshold = 150\n",
    "# big_contours = [i for i in range(len(contours)) if len(contours[i]) > contour_threshold]\n",
    "# for i in big_contours:\n",
    "#     cv2.drawContours(img, contours, i, (0, 255, 0), 3)\n",
    "# cv2.namedWindow('Contours',cv2.WINDOW_NORMAL)\n",
    "# cv2.imshow('Contours', img)\n",
    "\n",
    "## corner detection\n",
    "gray = cv2.cvtColor(img,cv2.COLOR_BGR2GRAY)\n",
    "# gray = np.float32(gray)\n",
    "# dst = cv2.cornerHarris(gray,2,5,0.07)\n",
    "# img[dst>0.01*dst.max()]=[0,0,255]\n",
    "# dst = cv2.dilate(dst, None)\n",
    "\n",
    "# line segment detector\n",
    "lsd = cv2.createLineSegmentDetector(0)\n",
    "lines = lsd.detect(gray)[0] #Position 0 of the returned tuple are the detected lines\n",
    "img = lsd.drawSegments(img, lines)\n",
    "\n",
    "\n",
    "cv2.namedWindow('Contours', cv2.WINDOW_NORMAL)\n",
    "cv2.imshow('Images', img)\n",
    "if cv2.waitKey(0):\n",
    "    cv2.destroyAllWindows()\n",
    "cv2.waitKey(0)\n",
    "cv2.destroyAllWindows()\n",
    "# # and finally destroy/close all open windows"
   ]
  }
 ],
 "metadata": {
  "kernelspec": {
   "display_name": ".venv",
   "language": "python",
   "name": "python3"
  },
  "language_info": {
   "codemirror_mode": {
    "name": "ipython",
    "version": 3
   },
   "file_extension": ".py",
   "mimetype": "text/x-python",
   "name": "python",
   "nbconvert_exporter": "python",
   "pygments_lexer": "ipython3",
   "version": "3.9.6"
  }
 },
 "nbformat": 4,
 "nbformat_minor": 5
}
