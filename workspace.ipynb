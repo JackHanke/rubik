{
 "cells": [
  {
   "cell_type": "markdown",
   "id": "10775a27",
   "metadata": {},
   "source": [
    "# Rubik's Cube Video Solver"
   ]
  },
  {
   "cell_type": "code",
   "execution_count": 92,
   "id": "f777ef17",
   "metadata": {},
   "outputs": [
    {
     "name": "stdout",
     "output_type": "stream",
     "text": [
      "{'key': 'e529e152-6017-4a65-b80d-b9ca47dd97c5', 'signature_scheme': 'hmac-sha256', 'transport': 'tcp', 'ip': '127.0.0.1', 'hb_port': 9005, 'control_port': 9006, 'shell_port': 9007, 'stdin_port': 9008, 'iopub_port': 9009, 'kernel_name': 'python396jvsc74a57bd01010f2fc08f6b6edd8bf08d663ce21e8708012106a03165dc8af694ad60979d1'}\n"
     ]
    }
   ],
   "source": [
    "import ipykernel\n",
    "import json\n",
    "import os\n",
    "\n",
    "# Get the connection file path\n",
    "connection_file_path = ipykernel.get_connection_file()\n",
    "\n",
    "# Read the connection file to get kernel details\n",
    "with open(connection_file_path) as f:\n",
    "    connection_info = json.load(f)\n",
    "\n",
    "# The 'argv' key in connection_info typically contains the path to the kernel executable\n",
    "# For Python kernels, this usually points to the Python interpreter being used by the kernel.\n",
    "print(connection_info)\n",
    "# kernel_executable_path = connection_info['argv'][0]\n",
    "\n",
    "# print(f\"Connection File Path: {connection_file_path}\")\n",
    "# print(f\"Kernel Executable Path: {kernel_executable_path}\")\n",
    "\n",
    "# # You can also get the directory where the kernel's connection file is located\n",
    "# kernel_runtime_dir = os.path.dirname(connection_file_path)\n",
    "# print(f\"Kernel Runtime Directory: {kernel_runtime_dir}\")"
   ]
  },
  {
   "cell_type": "code",
   "execution_count": 3,
   "id": "2805e86e",
   "metadata": {},
   "outputs": [
    {
     "name": "stdout",
     "output_type": "stream",
     "text": [
      "Collecting rubik_solver\n",
      "  Using cached rubik_solver-0.2.0.tar.gz (3.6 MB)\n",
      "  Installing build dependencies ... \u001b[?25ldone\n",
      "\u001b[?25h  Getting requirements to build wheel ... \u001b[?25ldone\n",
      "\u001b[?25h  Preparing metadata (pyproject.toml) ... \u001b[?25ldone\n",
      "\u001b[?25hCollecting future==0.16.0 (from rubik_solver)\n",
      "  Using cached future-0.16.0.tar.gz (824 kB)\n",
      "  Installing build dependencies ... \u001b[?25ldone\n",
      "\u001b[?25h  Getting requirements to build wheel ... \u001b[?25ldone\n",
      "\u001b[?25h  Preparing metadata (pyproject.toml) ... \u001b[?25ldone\n",
      "\u001b[?25hBuilding wheels for collected packages: rubik_solver, future\n",
      "  Building wheel for rubik_solver (pyproject.toml) ... \u001b[?25ldone\n",
      "\u001b[?25h  Created wheel for rubik_solver: filename=rubik_solver-0.2.0-py3-none-any.whl size=3684040 sha256=ee1991bbbf219e0ef172192fb1ab8e964ecec7523d0034d1f141736185751900\n",
      "  Stored in directory: /Users/jack/Library/Caches/pip/wheels/e6/b9/dc/34f7b5945c8b4ab9c1cd778c40b1b74a75765584653497ec36\n",
      "  Building wheel for future (pyproject.toml) ... \u001b[?25ldone\n",
      "\u001b[?25h  Created wheel for future: filename=future-0.16.0-py3-none-any.whl size=487874 sha256=3d24c0c9a362f6962ca09bfc3d2a2ff1016b81421768f817450977691e1c6cde\n",
      "  Stored in directory: /Users/jack/Library/Caches/pip/wheels/6e/bc/19/ea1496b17b60d45b1503dfb87704b1246bfaca822ce9880fd9\n",
      "Successfully built rubik_solver future\n",
      "Installing collected packages: future, rubik_solver\n",
      "\u001b[2K   \u001b[90m━━━━━━━━━━━━━━━━━━━━━━━━━━━━━━━━━━━━━━━━\u001b[0m \u001b[32m2/2\u001b[0m [rubik_solver]\n",
      "\u001b[1A\u001b[2KSuccessfully installed future-0.16.0 rubik_solver-0.2.0\n",
      "Note: you may need to restart the kernel to use updated packages.\n"
     ]
    }
   ],
   "source": [
    "%pip install rubik_solver"
   ]
  },
  {
   "cell_type": "code",
   "execution_count": 93,
   "id": "32c8acea",
   "metadata": {},
   "outputs": [
    {
     "name": "stdout",
     "output_type": "stream",
     "text": [
      "54\n"
     ]
    },
    {
     "data": {
      "text/plain": [
       "[L', F, B2, R', B, R', L, B, D', F', U, B2, U, F2, D', R2, L2, U, F2, D']"
      ]
     },
     "execution_count": 93,
     "metadata": {},
     "output_type": "execute_result"
    }
   ],
   "source": [
    "from rubik_solver import utils\n",
    "cube = 'wowgybwyogygybyoggrowbrgywrborwggybrbwororbwborgowryby'\n",
    "print(len(cube))\n",
    "utils.solve(cube, 'Kociemba')"
   ]
  },
  {
   "cell_type": "code",
   "execution_count": 3,
   "id": "274391b7",
   "metadata": {},
   "outputs": [
    {
     "name": "stdout",
     "output_type": "stream",
     "text": [
      "Collecting opencv-python\n",
      "  Using cached opencv_python-4.11.0.86-cp37-abi3-macosx_13_0_arm64.whl.metadata (20 kB)\n",
      "Collecting Pillow\n",
      "  Downloading pillow-11.2.1-cp39-cp39-macosx_11_0_arm64.whl.metadata (8.9 kB)\n",
      "Collecting numpy>=1.21.0 (from opencv-python)\n",
      "  Downloading numpy-2.0.2-cp39-cp39-macosx_14_0_arm64.whl.metadata (60 kB)\n",
      "Using cached opencv_python-4.11.0.86-cp37-abi3-macosx_13_0_arm64.whl (37.3 MB)\n",
      "Downloading pillow-11.2.1-cp39-cp39-macosx_11_0_arm64.whl (3.0 MB)\n",
      "\u001b[2K   \u001b[90m━━━━━━━━━━━━━━━━━━━━━━━━━━━━━━━━━━━━━━━━\u001b[0m \u001b[32m3.0/3.0 MB\u001b[0m \u001b[31m31.6 MB/s\u001b[0m eta \u001b[36m0:00:00\u001b[0m\n",
      "\u001b[?25hDownloading numpy-2.0.2-cp39-cp39-macosx_14_0_arm64.whl (5.3 MB)\n",
      "\u001b[2K   \u001b[90m━━━━━━━━━━━━━━━━━━━━━━━━━━━━━━━━━━━━━━━━\u001b[0m \u001b[32m5.3/5.3 MB\u001b[0m \u001b[31m73.4 MB/s\u001b[0m eta \u001b[36m0:00:00\u001b[0m\n",
      "\u001b[?25hInstalling collected packages: Pillow, numpy, opencv-python\n",
      "\u001b[2K   \u001b[90m━━━━━━━━━━━━━━━━━━━━━━━━━━━━━━━━━━━━━━━━\u001b[0m \u001b[32m3/3\u001b[0m [opencv-python]0m [opencv-python]\n",
      "\u001b[1A\u001b[2KSuccessfully installed Pillow-11.2.1 numpy-2.0.2 opencv-python-4.11.0.86\n",
      "Note: you may need to restart the kernel to use updated packages.\n"
     ]
    }
   ],
   "source": [
    "%pip install opencv-python Pillow"
   ]
  },
  {
   "cell_type": "code",
   "execution_count": 94,
   "id": "efbd6350",
   "metadata": {},
   "outputs": [
    {
     "ename": "TypeError",
     "evalue": "unsupported operand type(s) for +: 'int' and 'str'",
     "output_type": "error",
     "traceback": [
      "\u001b[0;31m---------------------------------------------------------------------------\u001b[0m",
      "\u001b[0;31mTypeError\u001b[0m                                 Traceback (most recent call last)",
      "Cell \u001b[0;32mIn[94], line 2\u001b[0m\n\u001b[1;32m      1\u001b[0m a \u001b[38;5;241m=\u001b[39m [\u001b[38;5;124m'\u001b[39m\u001b[38;5;124mb\u001b[39m\u001b[38;5;124m'\u001b[39m, \u001b[38;5;124m'\u001b[39m\u001b[38;5;124mcd\u001b[39m\u001b[38;5;124m'\u001b[39m, \u001b[38;5;124m'\u001b[39m\u001b[38;5;124maaa\u001b[39m\u001b[38;5;124m'\u001b[39m]\n\u001b[0;32m----> 2\u001b[0m \u001b[38;5;28;43msum\u001b[39;49m\u001b[43m(\u001b[49m\u001b[43ma\u001b[49m\u001b[43m)\u001b[49m\n",
      "\u001b[0;31mTypeError\u001b[0m: unsupported operand type(s) for +: 'int' and 'str'"
     ]
    }
   ],
   "source": [
    "a = ['b', 'cd', 'aaa']\n",
    "sum(a)"
   ]
  },
  {
   "cell_type": "code",
   "execution_count": 82,
   "id": "44b0aa49",
   "metadata": {},
   "outputs": [
    {
     "name": "stdout",
     "output_type": "stream",
     "text": [
      "[[[-7.8100000e+02  3.1241393e+00]]\n",
      "\n",
      " [[ 1.1060000e+03  0.0000000e+00]]\n",
      "\n",
      " [[ 1.6880000e+03  3.4906585e-02]]\n",
      "\n",
      " [[ 1.1280000e+03  1.7453292e-02]]\n",
      "\n",
      " [[ 7.7500000e+02  0.0000000e+00]]\n",
      "\n",
      " [[-7.3600000e+02  3.0892327e+00]]\n",
      "\n",
      " [[ 1.3850000e+03  1.7453292e-02]]\n",
      "\n",
      " [[-5.1500000e+02  3.1241393e+00]]\n",
      "\n",
      " [[ 1.3830000e+03  1.1868238e+00]]\n",
      "\n",
      " [[ 8.9200000e+02  2.0071287e+00]]\n",
      "\n",
      " [[ 1.0570000e+03  0.0000000e+00]]\n",
      "\n",
      " [[ 1.7290000e+03  3.4906585e-02]]\n",
      "\n",
      " [[ 5.6700000e+02  1.2740903e+00]]\n",
      "\n",
      " [[ 5.6200000e+02  1.9547688e+00]]\n",
      "\n",
      " [[ 2.1900000e+02  1.9373155e+00]]\n",
      "\n",
      " [[ 5.9100000e+02  1.9722221e+00]]\n",
      "\n",
      " [[ 5.9000000e+01  1.9198622e+00]]\n",
      "\n",
      " [[-1.0290000e+03  3.1241393e+00]]\n",
      "\n",
      " [[ 1.6700000e+03  1.7453292e-02]]\n",
      "\n",
      " [[ 1.7690000e+03  1.1519173e+00]]\n",
      "\n",
      " [[ 1.4580000e+03  1.1519173e+00]]\n",
      "\n",
      " [[ 1.0040000e+03  1.2391838e+00]]\n",
      "\n",
      " [[ 5.8000000e+02  1.2566371e+00]]\n",
      "\n",
      " [[-7.9000000e+02  3.1241393e+00]]\n",
      "\n",
      " [[ 1.8060000e+03  1.1519173e+00]]\n",
      "\n",
      " [[ 8.6900000e+02  1.9896753e+00]]\n",
      "\n",
      " [[ 5.4700000e+02  1.9722221e+00]]\n",
      "\n",
      " [[ 1.3900000e+03  1.7453292e-02]]\n",
      "\n",
      " [[ 1.7670000e+03  1.1344640e+00]]\n",
      "\n",
      " [[-2.9000000e+02  1.9024088e+00]]\n",
      "\n",
      " [[ 5.7800000e+02  1.9722221e+00]]\n",
      "\n",
      " [[ 8.5600000e+02  2.0420351e+00]]\n",
      "\n",
      " [[ 8.4700000e+02  2.0071287e+00]]\n",
      "\n",
      " [[ 1.7150000e+03  5.2359879e-02]]]\n"
     ]
    }
   ],
   "source": [
    "import numpy as np\n",
    "import cv2 \n",
    "file_name = 'test_vids/test_im.jpg'\n",
    "\n",
    "img = cv2.imread(file_name)\n",
    "# resize\n",
    "# img = cv2.resize(img, (0, 0), fx = 0.1, fy = 0.1)\n",
    "# img = cv2.resize(img, (0, 0), fx = 0.15, fy = 0.15)\n",
    "# img = cv2.resize(img, (0, 0), fx = 0.2, fy = 0.2)\n",
    "# gray scaled\n",
    "gray = cv2.cvtColor(img,cv2.COLOR_BGR2GRAY)\n",
    "\n",
    "## canny edge\n",
    "edges = cv2.Canny(gray, 100, 200)\n",
    "\n",
    "## contours\n",
    "# contours, hierarchy = cv2.findContours(edges,cv2.RETR_EXTERNAL, cv2.CHAIN_APPROX_NONE)\n",
    "# contour_threshold = 150\n",
    "# big_contours = [i for i in range(len(contours)) if len(contours[i]) > contour_threshold]\n",
    "# for i in big_contours:\n",
    "#     cv2.drawContours(img, contours, i, (0, 0, 255), 3)\n",
    "# cv2.namedWindow('Contours',cv2.WINDOW_NORMAL)\n",
    "# cv2.imshow('Contours', img)\n",
    "\n",
    "## corner detection\n",
    "# gray = cv2.cvtColor(img,cv2.COLOR_BGR2GRAY)\n",
    "# edges = cv2.Canny(gray, 50, 150)\n",
    "# gray = np.float32(gray)\n",
    "# dst = cv2.cornerHarris(gray,2,5,0.07)\n",
    "# img[dst>0.01*dst.max()]=[0,0,255]\n",
    "# dst = cv2.dilate(dst, None)\n",
    "\n",
    "# line segment detector\n",
    "lsd = cv2.createLineSegmentDetector(0)\n",
    "line_segments = lsd.detect(gray)[0] # Position 0 of the returned tuple are the detected lines\n",
    "edges = lsd.drawSegments(np.zeros(img.shape, dtype=np.int8), line_segments)\n",
    "edges = np.float32(edges)\n",
    "edges = cv2.cvtColor(edges,cv2.COLOR_BGR2GRAY)\n",
    "edges = np.uint8(edges)\n",
    "\n",
    "\n",
    "lines = cv2.HoughLines(edges,1,np.pi/180,200)\n",
    "for line in lines:\n",
    "    rho,theta = line[0]\n",
    "    a = np.cos(theta)\n",
    "    b = np.sin(theta)\n",
    "    x0 = a*rho\n",
    "    y0 = b*rho\n",
    "    x1 = int(x0 + 1000*(-b))\n",
    "    y1 = int(y0 + 1000*(a))\n",
    "    x2 = int(x0 - 1000*(-b))\n",
    "    y2 = int(y0 - 1000*(a))\n",
    "    cv2.line(img,(x1,y1),(x2,y2),(0,0,255),2)\n",
    "\n",
    "# lines = cv2.HoughLinesP(edges,1,np.pi/180,200,minLineLength=50,maxLineGap=10)\n",
    "# for line in lines:\n",
    "#     x1,y1,x2,y2 = line[0]\n",
    "#     cv2.line(img,(x1,y1),(x2,y2),(0,0,255),2)\n",
    "\n",
    "print(lines)\n",
    "\n",
    "cv2.namedWindow('Image', cv2.WINDOW_NORMAL)\n",
    "# cv2.namedWindow('Gray', cv2.WINDOW_NORMAL)\n",
    "# cv2.namedWindow('Edges', cv2.WINDOW_NORMAL)\n",
    "cv2.imshow('Image', img)\n",
    "# cv2.imshow('Gray', gray)\n",
    "# cv2.imshow('Edges', edges)\n",
    "if cv2.waitKey(0):\n",
    "    cv2.destroyAllWindows()\n",
    "cv2.waitKey(0)\n",
    "cv2.destroyAllWindows()\n",
    "# # and finally destroy/close all open windows"
   ]
  }
 ],
 "metadata": {
  "kernelspec": {
   "display_name": ".venv",
   "language": "python",
   "name": "python3"
  },
  "language_info": {
   "codemirror_mode": {
    "name": "ipython",
    "version": 3
   },
   "file_extension": ".py",
   "mimetype": "text/x-python",
   "name": "python",
   "nbconvert_exporter": "python",
   "pygments_lexer": "ipython3",
   "version": "3.9.6"
  }
 },
 "nbformat": 4,
 "nbformat_minor": 5
}
