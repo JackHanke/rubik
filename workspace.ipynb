{
 "cells": [
  {
   "cell_type": "markdown",
   "id": "10775a27",
   "metadata": {},
   "source": [
    "# Rubik's Cube Video Solver"
   ]
  },
  {
   "cell_type": "code",
   "execution_count": 3,
   "id": "2805e86e",
   "metadata": {},
   "outputs": [
    {
     "name": "stdout",
     "output_type": "stream",
     "text": [
      "Collecting rubik_solver\n",
      "  Using cached rubik_solver-0.2.0.tar.gz (3.6 MB)\n",
      "  Installing build dependencies ... \u001b[?25ldone\n",
      "\u001b[?25h  Getting requirements to build wheel ... \u001b[?25ldone\n",
      "\u001b[?25h  Preparing metadata (pyproject.toml) ... \u001b[?25ldone\n",
      "\u001b[?25hCollecting future==0.16.0 (from rubik_solver)\n",
      "  Using cached future-0.16.0.tar.gz (824 kB)\n",
      "  Installing build dependencies ... \u001b[?25ldone\n",
      "\u001b[?25h  Getting requirements to build wheel ... \u001b[?25ldone\n",
      "\u001b[?25h  Preparing metadata (pyproject.toml) ... \u001b[?25ldone\n",
      "\u001b[?25hBuilding wheels for collected packages: rubik_solver, future\n",
      "  Building wheel for rubik_solver (pyproject.toml) ... \u001b[?25ldone\n",
      "\u001b[?25h  Created wheel for rubik_solver: filename=rubik_solver-0.2.0-py3-none-any.whl size=3684040 sha256=ee1991bbbf219e0ef172192fb1ab8e964ecec7523d0034d1f141736185751900\n",
      "  Stored in directory: /Users/jack/Library/Caches/pip/wheels/e6/b9/dc/34f7b5945c8b4ab9c1cd778c40b1b74a75765584653497ec36\n",
      "  Building wheel for future (pyproject.toml) ... \u001b[?25ldone\n",
      "\u001b[?25h  Created wheel for future: filename=future-0.16.0-py3-none-any.whl size=487874 sha256=3d24c0c9a362f6962ca09bfc3d2a2ff1016b81421768f817450977691e1c6cde\n",
      "  Stored in directory: /Users/jack/Library/Caches/pip/wheels/6e/bc/19/ea1496b17b60d45b1503dfb87704b1246bfaca822ce9880fd9\n",
      "Successfully built rubik_solver future\n",
      "Installing collected packages: future, rubik_solver\n",
      "\u001b[2K   \u001b[90m━━━━━━━━━━━━━━━━━━━━━━━━━━━━━━━━━━━━━━━━\u001b[0m \u001b[32m2/2\u001b[0m [rubik_solver]\n",
      "\u001b[1A\u001b[2KSuccessfully installed future-0.16.0 rubik_solver-0.2.0\n",
      "Note: you may need to restart the kernel to use updated packages.\n"
     ]
    }
   ],
   "source": [
    "%pip install rubik_solver"
   ]
  },
  {
   "cell_type": "code",
   "execution_count": 1,
   "id": "32c8acea",
   "metadata": {},
   "outputs": [
    {
     "data": {
      "text/plain": [
       "[L', F, B2, R', B, R', L, B, D', F', U, B2, U, F2, D', R2, L2, U, F2, D']"
      ]
     },
     "execution_count": 1,
     "metadata": {},
     "output_type": "execute_result"
    }
   ],
   "source": [
    "from rubik_solver import utils\n",
    "cube = 'wowgybwyogygybyoggrowbrgywrborwggybrbwororbwborgowryby'\n",
    "utils.solve(cube, 'Kociemba')"
   ]
  },
  {
   "cell_type": "code",
   "execution_count": null,
   "id": "44b0aa49",
   "metadata": {},
   "outputs": [],
   "source": []
  }
 ],
 "metadata": {
  "kernelspec": {
   "display_name": ".venv",
   "language": "python",
   "name": "python3"
  },
  "language_info": {
   "codemirror_mode": {
    "name": "ipython",
    "version": 3
   },
   "file_extension": ".py",
   "mimetype": "text/x-python",
   "name": "python",
   "nbconvert_exporter": "python",
   "pygments_lexer": "ipython3",
   "version": "3.12.4"
  }
 },
 "nbformat": 4,
 "nbformat_minor": 5
}
